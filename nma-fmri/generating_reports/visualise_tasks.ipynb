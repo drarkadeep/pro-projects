{
 "cells": [
  {
   "cell_type": "markdown",
   "metadata": {},
   "source": [
    "[![Open In Colab](https://colab.research.google.com/assets/colab-badge.svg)](https://colab.research.google.com/github/drarkadeep/dangerously-devilish-notebooks/blob/main/nma/fMRI/generating_reports/visualise_tasks.ipynb)"
   ]
  },
  {
   "cell_type": "markdown",
   "metadata": {},
   "source": [
    "### You should run save-glm-result.ipynb in the parent directory to generate the csv files we are analysing here..."
   ]
  },
  {
   "cell_type": "code",
   "execution_count": 6,
   "metadata": {},
   "outputs": [
    {
     "name": "stdout",
     "output_type": "stream",
     "text": [
      "Analysis complete. Check 'top_20_roi.md' and 'network_averages.md' for results.\n"
     ]
    }
   ],
   "source": [
    "import os\n",
    "import pandas as pd\n",
    "\n",
    "def analyze_glm_results(result_dir):\n",
    "    experiments = os.listdir(result_dir)\n",
    "    complete_data = {}\n",
    "    for experiment in experiments:\n",
    "        conditions = os.listdir(f\"{result_dir}/{experiment}\")\n",
    "        complete_data[experiment] = {}\n",
    "        for condition in conditions:\n",
    "            if not any(word in condition.lower() for word in ['drift', 'derivative', 'constant']):\n",
    "                complete_data[experiment][condition] = pd.read_csv(f\"{result_dir}/{experiment}/{condition}\")\n",
    "\n",
    "    all_data = []\n",
    "    for experiment, conditions in complete_data.items():\n",
    "        for condition, df in conditions.items():\n",
    "            df['experiment_condition'] = f\"{experiment}:{condition}\"\n",
    "            all_data.append(df)\n",
    "    combined_df = pd.concat(all_data, ignore_index=True)\n",
    "\n",
    "    with open('top_20_roi.md', 'w') as f:\n",
    "        f.write(\"# Top 20 ROI for Each Experiment:Condition\\n\\n\")\n",
    "        for exp_cond in combined_df['experiment_condition'].unique():\n",
    "            f.write(f\"## {exp_cond}\\n\\n\")\n",
    "            top_20 = combined_df[combined_df['experiment_condition'] == exp_cond].nlargest(20, 't_statistic')[['ROI', 'region', 'network', 't_statistic']]\n",
    "            f.write(top_20.to_markdown(index=False))\n",
    "            f.write(\"\\n\\n\")\n",
    "\n",
    "    with open('network_averages.md', 'w') as f:\n",
    "        f.write(\"# Average t-statistic Values by Network\\n\\n\")\n",
    "        for exp_cond in combined_df['experiment_condition'].unique():\n",
    "            f.write(f\"## {exp_cond}\\n\\n\")\n",
    "            network_averages = combined_df[combined_df['experiment_condition'] == exp_cond].groupby('network')['t_statistic'].mean().sort_values(ascending=False).reset_index()\n",
    "            f.write(network_averages.to_markdown(index=False))\n",
    "            f.write(\"\\n\\n\")\n",
    "\n",
    "    print(\"Analysis complete. Check 'top_20_roi.md' and 'network_averages.md' for results.\")\n",
    "\n",
    "result_dir = \"../2nd_level_glm_result\"\n",
    "analyze_glm_results(result_dir)"
   ]
  }
 ],
 "metadata": {
  "kernelspec": {
   "display_name": "Python 3",
   "language": "python",
   "name": "python3"
  },
  "language_info": {
   "codemirror_mode": {
    "name": "ipython",
    "version": 3
   },
   "file_extension": ".py",
   "mimetype": "text/x-python",
   "name": "python",
   "nbconvert_exporter": "python",
   "pygments_lexer": "ipython3",
   "version": "3.11.9"
  }
 },
 "nbformat": 4,
 "nbformat_minor": 2
}
